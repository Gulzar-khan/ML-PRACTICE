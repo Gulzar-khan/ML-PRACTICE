{
  "nbformat": 4,
  "nbformat_minor": 0,
  "metadata": {
    "kernelspec": {
      "display_name": "Python 3",
      "language": "python",
      "name": "python3"
    },
    "language_info": {
      "codemirror_mode": {
        "name": "ipython",
        "version": 3
      },
      "file_extension": ".py",
      "mimetype": "text/x-python",
      "name": "python",
      "nbconvert_exporter": "python",
      "pygments_lexer": "ipython3",
      "version": "3.7.1"
    },
    "colab": {
      "provenance": [],
      "include_colab_link": true
    }
  },
  "cells": [
    {
      "cell_type": "markdown",
      "metadata": {
        "id": "view-in-github",
        "colab_type": "text"
      },
      "source": [
        "<a href=\"https://colab.research.google.com/github/Gulzar-khan/ML-PRACTICE/blob/main/Assignment_Solution_Linear_Regression_Implementation.ipynb\" target=\"_parent\"><img src=\"https://colab.research.google.com/assets/colab-badge.svg\" alt=\"Open In Colab\"/></a>"
      ]
    },
    {
      "cell_type": "markdown",
      "metadata": {
        "id": "PYsTFWXYjCxF"
      },
      "source": [
        "### <u> Objective </u>\n",
        "* ### To predict the profit made by a startup on the basis of expenses incurred and the state where they operate\n",
        "\n",
        "### <u> Tasks </u>\n",
        "* ### Validate all the assumptions\n",
        "* ### Compute all the regression evaluation metrics\n",
        "* ### Comment on the best evaluation metrics for this problem"
      ]
    },
    {
      "cell_type": "code",
      "metadata": {
        "id": "tkMhzOURjCxF"
      },
      "source": [
        "# Importing the libraries\n",
        "import numpy as np\n",
        "import pandas as pd\n",
        "from numpy import math\n",
        "\n",
        "from sklearn.preprocessing import MinMaxScaler\n",
        "from sklearn.model_selection import train_test_split\n",
        "from sklearn.linear_model import LinearRegression\n",
        "from sklearn.metrics import r2_score\n",
        "from sklearn.metrics import mean_squared_error\n",
        "from sklearn.metrics import mean_absolute_error\n",
        "\n",
        "import matplotlib.pyplot as plt\n",
        "import seaborn as sns"
      ],
      "execution_count": null,
      "outputs": []
    },
    {
      "cell_type": "code",
      "metadata": {
        "colab": {
          "base_uri": "https://localhost:8080/"
        },
        "id": "rq-UR-BIj1AC",
        "outputId": "59bd6199-e9fb-432c-a363-1287f8f309d4"
      },
      "source": [
        "from google.colab import drive\n",
        "drive.mount('/content/drive')"
      ],
      "execution_count": null,
      "outputs": [
        {
          "output_type": "stream",
          "name": "stdout",
          "text": [
            "Mounted at /content/drive\n"
          ]
        }
      ]
    },
    {
      "cell_type": "code",
      "metadata": {
        "id": "tPpx4MzcjCxG"
      },
      "source": [
        "# Importing the dataset\n",
        "dataset = pd.read_csv('/content/drive/MyDrive/Colab Notebooks/Almabetter/ML/Week 8/3. Linear Regression Implementation/50_Startups.csv')"
      ],
      "execution_count": null,
      "outputs": []
    },
    {
      "cell_type": "code",
      "metadata": {
        "id": "1ZRdDurrjCxG",
        "colab": {
          "base_uri": "https://localhost:8080/"
        },
        "outputId": "ff7ed81e-0acd-41c5-f93a-8dba603ae9e4"
      },
      "source": [
        "len(dataset)"
      ],
      "execution_count": null,
      "outputs": [
        {
          "output_type": "execute_result",
          "data": {
            "text/plain": [
              "50"
            ]
          },
          "metadata": {},
          "execution_count": 4
        }
      ]
    },
    {
      "cell_type": "code",
      "metadata": {
        "id": "09Lq6u-JjCxI",
        "colab": {
          "base_uri": "https://localhost:8080/",
          "height": 206
        },
        "outputId": "f06931ce-04bd-4ccb-98d4-4549b72dc06d"
      },
      "source": [
        "dataset.head()"
      ],
      "execution_count": null,
      "outputs": [
        {
          "output_type": "execute_result",
          "data": {
            "text/plain": [
              "   R&D Spend  Administration  Marketing Spend       State     Profit\n",
              "0  165349.20       136897.80        471784.10    New York  192261.83\n",
              "1  162597.70       151377.59        443898.53  California  191792.06\n",
              "2  153441.51       101145.55        407934.54     Florida  191050.39\n",
              "3  144372.41       118671.85        383199.62    New York  182901.99\n",
              "4  142107.34        91391.77        366168.42     Florida  166187.94"
            ],
            "text/html": [
              "\n",
              "  <div id=\"df-7e9d4d24-1bcb-4974-bc87-396fbcd64a11\">\n",
              "    <div class=\"colab-df-container\">\n",
              "      <div>\n",
              "<style scoped>\n",
              "    .dataframe tbody tr th:only-of-type {\n",
              "        vertical-align: middle;\n",
              "    }\n",
              "\n",
              "    .dataframe tbody tr th {\n",
              "        vertical-align: top;\n",
              "    }\n",
              "\n",
              "    .dataframe thead th {\n",
              "        text-align: right;\n",
              "    }\n",
              "</style>\n",
              "<table border=\"1\" class=\"dataframe\">\n",
              "  <thead>\n",
              "    <tr style=\"text-align: right;\">\n",
              "      <th></th>\n",
              "      <th>R&amp;D Spend</th>\n",
              "      <th>Administration</th>\n",
              "      <th>Marketing Spend</th>\n",
              "      <th>State</th>\n",
              "      <th>Profit</th>\n",
              "    </tr>\n",
              "  </thead>\n",
              "  <tbody>\n",
              "    <tr>\n",
              "      <th>0</th>\n",
              "      <td>165349.20</td>\n",
              "      <td>136897.80</td>\n",
              "      <td>471784.10</td>\n",
              "      <td>New York</td>\n",
              "      <td>192261.83</td>\n",
              "    </tr>\n",
              "    <tr>\n",
              "      <th>1</th>\n",
              "      <td>162597.70</td>\n",
              "      <td>151377.59</td>\n",
              "      <td>443898.53</td>\n",
              "      <td>California</td>\n",
              "      <td>191792.06</td>\n",
              "    </tr>\n",
              "    <tr>\n",
              "      <th>2</th>\n",
              "      <td>153441.51</td>\n",
              "      <td>101145.55</td>\n",
              "      <td>407934.54</td>\n",
              "      <td>Florida</td>\n",
              "      <td>191050.39</td>\n",
              "    </tr>\n",
              "    <tr>\n",
              "      <th>3</th>\n",
              "      <td>144372.41</td>\n",
              "      <td>118671.85</td>\n",
              "      <td>383199.62</td>\n",
              "      <td>New York</td>\n",
              "      <td>182901.99</td>\n",
              "    </tr>\n",
              "    <tr>\n",
              "      <th>4</th>\n",
              "      <td>142107.34</td>\n",
              "      <td>91391.77</td>\n",
              "      <td>366168.42</td>\n",
              "      <td>Florida</td>\n",
              "      <td>166187.94</td>\n",
              "    </tr>\n",
              "  </tbody>\n",
              "</table>\n",
              "</div>\n",
              "      <button class=\"colab-df-convert\" onclick=\"convertToInteractive('df-7e9d4d24-1bcb-4974-bc87-396fbcd64a11')\"\n",
              "              title=\"Convert this dataframe to an interactive table.\"\n",
              "              style=\"display:none;\">\n",
              "        \n",
              "  <svg xmlns=\"http://www.w3.org/2000/svg\" height=\"24px\"viewBox=\"0 0 24 24\"\n",
              "       width=\"24px\">\n",
              "    <path d=\"M0 0h24v24H0V0z\" fill=\"none\"/>\n",
              "    <path d=\"M18.56 5.44l.94 2.06.94-2.06 2.06-.94-2.06-.94-.94-2.06-.94 2.06-2.06.94zm-11 1L8.5 8.5l.94-2.06 2.06-.94-2.06-.94L8.5 2.5l-.94 2.06-2.06.94zm10 10l.94 2.06.94-2.06 2.06-.94-2.06-.94-.94-2.06-.94 2.06-2.06.94z\"/><path d=\"M17.41 7.96l-1.37-1.37c-.4-.4-.92-.59-1.43-.59-.52 0-1.04.2-1.43.59L10.3 9.45l-7.72 7.72c-.78.78-.78 2.05 0 2.83L4 21.41c.39.39.9.59 1.41.59.51 0 1.02-.2 1.41-.59l7.78-7.78 2.81-2.81c.8-.78.8-2.07 0-2.86zM5.41 20L4 18.59l7.72-7.72 1.47 1.35L5.41 20z\"/>\n",
              "  </svg>\n",
              "      </button>\n",
              "      \n",
              "  <style>\n",
              "    .colab-df-container {\n",
              "      display:flex;\n",
              "      flex-wrap:wrap;\n",
              "      gap: 12px;\n",
              "    }\n",
              "\n",
              "    .colab-df-convert {\n",
              "      background-color: #E8F0FE;\n",
              "      border: none;\n",
              "      border-radius: 50%;\n",
              "      cursor: pointer;\n",
              "      display: none;\n",
              "      fill: #1967D2;\n",
              "      height: 32px;\n",
              "      padding: 0 0 0 0;\n",
              "      width: 32px;\n",
              "    }\n",
              "\n",
              "    .colab-df-convert:hover {\n",
              "      background-color: #E2EBFA;\n",
              "      box-shadow: 0px 1px 2px rgba(60, 64, 67, 0.3), 0px 1px 3px 1px rgba(60, 64, 67, 0.15);\n",
              "      fill: #174EA6;\n",
              "    }\n",
              "\n",
              "    [theme=dark] .colab-df-convert {\n",
              "      background-color: #3B4455;\n",
              "      fill: #D2E3FC;\n",
              "    }\n",
              "\n",
              "    [theme=dark] .colab-df-convert:hover {\n",
              "      background-color: #434B5C;\n",
              "      box-shadow: 0px 1px 3px 1px rgba(0, 0, 0, 0.15);\n",
              "      filter: drop-shadow(0px 1px 2px rgba(0, 0, 0, 0.3));\n",
              "      fill: #FFFFFF;\n",
              "    }\n",
              "  </style>\n",
              "\n",
              "      <script>\n",
              "        const buttonEl =\n",
              "          document.querySelector('#df-7e9d4d24-1bcb-4974-bc87-396fbcd64a11 button.colab-df-convert');\n",
              "        buttonEl.style.display =\n",
              "          google.colab.kernel.accessAllowed ? 'block' : 'none';\n",
              "\n",
              "        async function convertToInteractive(key) {\n",
              "          const element = document.querySelector('#df-7e9d4d24-1bcb-4974-bc87-396fbcd64a11');\n",
              "          const dataTable =\n",
              "            await google.colab.kernel.invokeFunction('convertToInteractive',\n",
              "                                                     [key], {});\n",
              "          if (!dataTable) return;\n",
              "\n",
              "          const docLinkHtml = 'Like what you see? Visit the ' +\n",
              "            '<a target=\"_blank\" href=https://colab.research.google.com/notebooks/data_table.ipynb>data table notebook</a>'\n",
              "            + ' to learn more about interactive tables.';\n",
              "          element.innerHTML = '';\n",
              "          dataTable['output_type'] = 'display_data';\n",
              "          await google.colab.output.renderOutput(dataTable, element);\n",
              "          const docLink = document.createElement('div');\n",
              "          docLink.innerHTML = docLinkHtml;\n",
              "          element.appendChild(docLink);\n",
              "        }\n",
              "      </script>\n",
              "    </div>\n",
              "  </div>\n",
              "  "
            ]
          },
          "metadata": {},
          "execution_count": 5
        }
      ]
    },
    {
      "cell_type": "code",
      "metadata": {
        "id": "B5-7qlkJjCxJ",
        "colab": {
          "base_uri": "https://localhost:8080/"
        },
        "outputId": "aa3857a3-9738-4254-ec3f-3867303d8a80"
      },
      "source": [
        "dataset.shape"
      ],
      "execution_count": null,
      "outputs": [
        {
          "output_type": "execute_result",
          "data": {
            "text/plain": [
              "(50, 5)"
            ]
          },
          "metadata": {},
          "execution_count": 6
        }
      ]
    },
    {
      "cell_type": "code",
      "metadata": {
        "id": "VoZpfEQ0jCxJ",
        "colab": {
          "base_uri": "https://localhost:8080/",
          "height": 295
        },
        "outputId": "6216196a-2063-44d3-a018-dff0ff5e569f"
      },
      "source": [
        "plt.scatter(dataset['Marketing Spend'], dataset['Profit'], alpha=0.5)\n",
        "plt.title('Scatter plot of Profit with Marketing Spend')\n",
        "plt.xlabel('Marketing Spend')\n",
        "plt.ylabel('Profit')\n",
        "plt.show()"
      ],
      "execution_count": null,
      "outputs": [
        {
          "output_type": "display_data",
          "data": {
            "text/plain": [
              "<Figure size 432x288 with 1 Axes>"
            ],
            "image/png": "[encoded data removed]"
          },
          "metadata": {
            "needs_background": "light"
          }
        }
      ]
    },
    {
      "cell_type": "code",
      "metadata": {
        "id": "aiwUW_ZbjCxK",
        "colab": {
          "base_uri": "https://localhost:8080/",
          "height": 295
        },
        "outputId": "549b03cb-36c4-404f-fe9c-8d4ea499b949"
      },
      "source": [
        "plt.scatter(dataset['R&D Spend'], dataset['Profit'], alpha=0.5)\n",
        "plt.title('Scatter plot of Profit with R&D Spend')\n",
        "plt.xlabel('R&D Spend')\n",
        "plt.ylabel('Profit')\n",
        "plt.show()"
      ],
      "execution_count": null,
      "outputs": [
        {
          "output_type": "display_data",
          "data": {
            "text/plain": [
              "<Figure size 432x288 with 1 Axes>"
            ],
            "image/png": "[encoded data removed]"
          },
          "metadata": {
            "needs_background": "light"
          }
        }
      ]
    },
    {
      "cell_type": "code",
      "metadata": {
        "id": "8SfhL_eZjCxK",
        "colab": {
          "base_uri": "https://localhost:8080/",
          "height": 295
        },
        "outputId": "e3624e96-de8a-47d6-d171-80eb76a1fac4"
      },
      "source": [
        "plt.scatter(dataset['Administration'], dataset['Profit'], alpha=0.5)\n",
        "plt.title('Scatter plot of Profit with Administration')\n",
        "plt.xlabel('Administration')\n",
        "plt.ylabel('Profit')\n",
        "plt.show()"
      ],
      "execution_count": null,
      "outputs": [
        {
          "output_type": "display_data",
          "data": {
            "text/plain": [
              "<Figure size 432x288 with 1 Axes>"
            ],
            "image/png": "[encoded data removed]"
          },
          "metadata": {
            "needs_background": "light"
          }
        }
      ]
    },
    {
      "cell_type": "code",
      "metadata": {
        "scrolled": true,
        "id": "r4Ko2IDIjCxK",
        "colab": {
          "base_uri": "https://localhost:8080/",
          "height": 435
        },
        "outputId": "1b91f834-c78c-40dd-da8f-9d6a56cd0061"
      },
      "source": [
        "# Create the figure object \n",
        "ax = dataset.groupby(['State'])['Profit'].mean().plot.bar(\n",
        "    figsize = (10,5),\n",
        "    fontsize = 14\n",
        ")\n",
        "\n",
        "# Set the title\n",
        "ax.set_title(\"Average profit for different states where the startups operate\", fontsize = 20)\n",
        "\n",
        "# Set x and y-labels\n",
        "ax.set_xlabel(\"State\", fontsize = 15)\n",
        "ax.set_ylabel(\"Profit\", fontsize = 15)"
      ],
      "execution_count": null,
      "outputs": [
        {
          "output_type": "execute_result",
          "data": {
            "text/plain": [
              "Text(0, 0.5, 'Profit')"
            ]
          },
          "metadata": {},
          "execution_count": 10
        },
        {
          "output_type": "display_data",
          "data": {
            "text/plain": [
              "<Figure size 720x360 with 1 Axes>"
            ],
            "image/png": "[encoded data removed]"
          },
          "metadata": {
            "needs_background": "light"
          }
        }
      ]
    },
    {
      "cell_type": "code",
      "metadata": {
        "id": "4EpGYvY2jCxL",
        "colab": {
          "base_uri": "https://localhost:8080/"
        },
        "outputId": "8631d64b-cfaf-48c9-8f5c-314ae59aa912"
      },
      "source": [
        "dataset.State.value_counts()"
      ],
      "execution_count": null,
      "outputs": [
        {
          "output_type": "execute_result",
          "data": {
            "text/plain": [
              "New York      17\n",
              "California    17\n",
              "Florida       16\n",
              "Name: State, dtype: int64"
            ]
          },
          "metadata": {},
          "execution_count": 11
        }
      ]
    },
    {
      "cell_type": "code",
      "metadata": {
        "id": "vkF4Ve4tjCxL"
      },
      "source": [
        "# Create dummy variables for the catgeorical variable State\n",
        "dataset['NewYork_State'] = np.where(dataset['State']=='New York', 1, 0)\n",
        "dataset['California_State'] = np.where(dataset['State']=='California', 1, 0)\n",
        "dataset['Florida_State'] = np.where(dataset['State']=='Florida', 1, 0)\n",
        "\n",
        "# Drop the original column State from the dataframe\n",
        "dataset.drop(columns=['State'],axis=1,inplace=True)"
      ],
      "execution_count": null,
      "outputs": []
    },
    {
      "cell_type": "code",
      "metadata": {
        "id": "K6axq9hTjCxL",
        "colab": {
          "base_uri": "https://localhost:8080/",
          "height": 206
        },
        "outputId": "6cff79c6-3835-46b3-a0a6-8f0bb3ae1942"
      },
      "source": [
        "dataset.head()"
      ],
      "execution_count": null,
      "outputs": [
        {
          "output_type": "execute_result",
          "data": {
            "text/plain": [
              "   R&D Spend  Administration  Marketing Spend     Profit  NewYork_State  \\\n",
              "0  165349.20       136897.80        471784.10  192261.83              1   \n",
              "1  162597.70       151377.59        443898.53  191792.06              0   \n",
              "2  153441.51       101145.55        407934.54  191050.39              0   \n",
              "3  144372.41       118671.85        383199.62  182901.99              1   \n",
              "4  142107.34        91391.77        366168.42  166187.94              0   \n",
              "\n",
              "   California_State  Florida_State  \n",
              "0                 0              0  \n",
              "1                 1              0  \n",
              "2                 0              1  \n",
              "3                 0              0  \n",
              "4                 0              1  "
            ],
            "text/html": [
              "\n",
              "  <div id=\"df-f82fa547-103d-4a47-b4c0-398207d74e6f\">\n",
              "    <div class=\"colab-df-container\">\n",
              "      <div>\n",
              "<style scoped>\n",
              "    .dataframe tbody tr th:only-of-type {\n",
              "        vertical-align: middle;\n",
              "    }\n",
              "\n",
              "    .dataframe tbody tr th {\n",
              "        vertical-align: top;\n",
              "    }\n",
              "\n",
              "    .dataframe thead th {\n",
              "        text-align: right;\n",
              "    }\n",
              "</style>\n",
              "<table border=\"1\" class=\"dataframe\">\n",
              "  <thead>\n",
              "    <tr style=\"text-align: right;\">\n",
              "      <th></th>\n",
              "      <th>R&amp;D Spend</th>\n",
              "      <th>Administration</th>\n",
              "      <th>Marketing Spend</th>\n",
              "      <th>Profit</th>\n",
              "      <th>NewYork_State</th>\n",
              "      <th>California_State</th>\n",
              "      <th>Florida_State</th>\n",
              "    </tr>\n",
              "  </thead>\n",
              "  <tbody>\n",
              "    <tr>\n",
              "      <th>0</th>\n",
              "      <td>165349.20</td>\n",
              "      <td>136897.80</td>\n",
              "      <td>471784.10</td>\n",
              "      <td>192261.83</td>\n",
              "      <td>1</td>\n",
              "      <td>0</td>\n",
              "      <td>0</td>\n",
              "    </tr>\n",
              "    <tr>\n",
              "      <th>1</th>\n",
              "      <td>162597.70</td>\n",
              "      <td>151377.59</td>\n",
              "      <td>443898.53</td>\n",
              "      <td>191792.06</td>\n",
              "      <td>0</td>\n",
              "      <td>1</td>\n",
              "      <td>0</td>\n",
              "    </tr>\n",
              "    <tr>\n",
              "      <th>2</th>\n",
              "      <td>153441.51</td>\n",
              "      <td>101145.55</td>\n",
              "      <td>407934.54</td>\n",
              "      <td>191050.39</td>\n",
              "      <td>0</td>\n",
              "      <td>0</td>\n",
              "      <td>1</td>\n",
              "    </tr>\n",
              "    <tr>\n",
              "      <th>3</th>\n",
              "      <td>144372.41</td>\n",
              "      <td>118671.85</td>\n",
              "      <td>383199.62</td>\n",
              "      <td>182901.99</td>\n",
              "      <td>1</td>\n",
              "      <td>0</td>\n",
              "      <td>0</td>\n",
              "    </tr>\n",
              "    <tr>\n",
              "      <th>4</th>\n",
              "      <td>142107.34</td>\n",
              "      <td>91391.77</td>\n",
              "      <td>366168.42</td>\n",
              "      <td>166187.94</td>\n",
              "      <td>0</td>\n",
              "      <td>0</td>\n",
              "      <td>1</td>\n",
              "    </tr>\n",
              "  </tbody>\n",
              "</table>\n",
              "</div>\n",
              "      <button class=\"colab-df-convert\" onclick=\"convertToInteractive('df-f82fa547-103d-4a47-b4c0-398207d74e6f')\"\n",
              "              title=\"Convert this dataframe to an interactive table.\"\n",
              "              style=\"display:none;\">\n",
              "        \n",
              "  <svg xmlns=\"http://www.w3.org/2000/svg\" height=\"24px\"viewBox=\"0 0 24 24\"\n",
              "       width=\"24px\">\n",
              "    <path d=\"M0 0h24v24H0V0z\" fill=\"none\"/>\n",
              "    <path d=\"M18.56 5.44l.94 2.06.94-2.06 2.06-.94-2.06-.94-.94-2.06-.94 2.06-2.06.94zm-11 1L8.5 8.5l.94-2.06 2.06-.94-2.06-.94L8.5 2.5l-.94 2.06-2.06.94zm10 10l.94 2.06.94-2.06 2.06-.94-2.06-.94-.94-2.06-.94 2.06-2.06.94z\"/><path d=\"M17.41 7.96l-1.37-1.37c-.4-.4-.92-.59-1.43-.59-.52 0-1.04.2-1.43.59L10.3 9.45l-7.72 7.72c-.78.78-.78 2.05 0 2.83L4 21.41c.39.39.9.59 1.41.59.51 0 1.02-.2 1.41-.59l7.78-7.78 2.81-2.81c.8-.78.8-2.07 0-2.86zM5.41 20L4 18.59l7.72-7.72 1.47 1.35L5.41 20z\"/>\n",
              "  </svg>\n",
              "      </button>\n",
              "      \n",
              "  <style>\n",
              "    .colab-df-container {\n",
              "      display:flex;\n",
              "      flex-wrap:wrap;\n",
              "      gap: 12px;\n",
              "    }\n",
              "\n",
              "    .colab-df-convert {\n",
              "      background-color: #E8F0FE;\n",
              "      border: none;\n",
              "      border-radius: 50%;\n",
              "      cursor: pointer;\n",
              "      display: none;\n",
              "      fill: #1967D2;\n",
              "      height: 32px;\n",
              "      padding: 0 0 0 0;\n",
              "      width: 32px;\n",
              "    }\n",
              "\n",
              "    .colab-df-convert:hover {\n",
              "      background-color: #E2EBFA;\n",
              "      box-shadow: 0px 1px 2px rgba(60, 64, 67, 0.3), 0px 1px 3px 1px rgba(60, 64, 67, 0.15);\n",
              "      fill: #174EA6;\n",
              "    }\n",
              "\n",
              "    [theme=dark] .colab-df-convert {\n",
              "      background-color: #3B4455;\n",
              "      fill: #D2E3FC;\n",
              "    }\n",
              "\n",
              "    [theme=dark] .colab-df-convert:hover {\n",
              "      background-color: #434B5C;\n",
              "      box-shadow: 0px 1px 3px 1px rgba(0, 0, 0, 0.15);\n",
              "      filter: drop-shadow(0px 1px 2px rgba(0, 0, 0, 0.3));\n",
              "      fill: #FFFFFF;\n",
              "    }\n",
              "  </style>\n",
              "\n",
              "      <script>\n",
              "        const buttonEl =\n",
              "          document.querySelector('#df-f82fa547-103d-4a47-b4c0-398207d74e6f button.colab-df-convert');\n",
              "        buttonEl.style.display =\n",
              "          google.colab.kernel.accessAllowed ? 'block' : 'none';\n",
              "\n",
              "        async function convertToInteractive(key) {\n",
              "          const element = document.querySelector('#df-f82fa547-103d-4a47-b4c0-398207d74e6f');\n",
              "          const dataTable =\n",
              "            await google.colab.kernel.invokeFunction('convertToInteractive',\n",
              "                                                     [key], {});\n",
              "          if (!dataTable) return;\n",
              "\n",
              "          const docLinkHtml = 'Like what you see? Visit the ' +\n",
              "            '<a target=\"_blank\" href=https://colab.research.google.com/notebooks/data_table.ipynb>data table notebook</a>'\n",
              "            + ' to learn more about interactive tables.';\n",
              "          element.innerHTML = '';\n",
              "          dataTable['output_type'] = 'display_data';\n",
              "          await google.colab.output.renderOutput(dataTable, element);\n",
              "          const docLink = document.createElement('div');\n",
              "          docLink.innerHTML = docLinkHtml;\n",
              "          element.appendChild(docLink);\n",
              "        }\n",
              "      </script>\n",
              "    </div>\n",
              "  </div>\n",
              "  "
            ]
          },
          "metadata": {},
          "execution_count": 13
        }
      ]
    },
    {
      "cell_type": "code",
      "metadata": {
        "id": "HKfVT8AHjCxL"
      },
      "source": [
        "dependent_variable = 'Profit'"
      ],
      "execution_count": null,
      "outputs": []
    },
    {
      "cell_type": "code",
      "metadata": {
        "id": "BFF1rXe-jCxM"
      },
      "source": [
        "# Create a list of independent variables\n",
        "independent_variables = list(set(dataset.columns.tolist()) - {dependent_variable})"
      ],
      "execution_count": null,
      "outputs": []
    },
    {
      "cell_type": "code",
      "metadata": {
        "id": "PwuXF6FAjCxM",
        "colab": {
          "base_uri": "https://localhost:8080/"
        },
        "outputId": "75f0e7d7-853d-4d5e-d0e9-4e6d375ed6a6"
      },
      "source": [
        "independent_variables"
      ],
      "execution_count": null,
      "outputs": [
        {
          "output_type": "execute_result",
          "data": {
            "text/plain": [
              "['Marketing Spend',\n",
              " 'Administration',\n",
              " 'Florida_State',\n",
              " 'R&D Spend',\n",
              " 'California_State',\n",
              " 'NewYork_State']"
            ]
          },
          "metadata": {},
          "execution_count": 16
        }
      ]
    },
    {
      "cell_type": "code",
      "metadata": {
        "id": "iwvh6DYUjCxM"
      },
      "source": [
        "# Create the data of independent variables\n",
        "X = dataset[independent_variables].values\n",
        "\n",
        "# Create the dependent variable data\n",
        "y = dataset[dependent_variable].values"
      ],
      "execution_count": null,
      "outputs": []
    },
    {
      "cell_type": "code",
      "source": [
        "train_test_split?"
      ],
      "metadata": {
        "id": "AsBWRZh2QzGz"
      },
      "execution_count": null,
      "outputs": []
    },
    {
      "cell_type": "code",
      "metadata": {
        "id": "u0pTjm94jCxN"
      },
      "source": [
        "# Splitting the dataset into the Training set and Test set\n",
        "X_train, X_test, y_train, y_test = train_test_split(X, y, test_size = 0.2, random_state = 0)"
      ],
      "execution_count": null,
      "outputs": []
    },
    {
      "cell_type": "code",
      "metadata": {
        "id": "ItSua8fKjCxN"
      },
      "source": [
        "# Transforming data\n",
        "scaler = MinMaxScaler()\n",
        "X_train = scaler.fit_transform(X_train)\n",
        "X_test = scaler.transform(X_test)"
      ],
      "execution_count": null,
      "outputs": []
    },
    {
      "cell_type": "code",
      "metadata": {
        "id": "UAZ0eFcOjCxN",
        "colab": {
          "base_uri": "https://localhost:8080/"
        },
        "outputId": "7baabbc1-f6e9-4cae-9a2e-b1a04295843e"
      },
      "source": [
        "X_train[0:10]"
      ],
      "execution_count": null,
      "outputs": [
        {
          "output_type": "execute_result",
          "data": {
            "text/plain": [
              "array([[0.45494286, 0.48655174, 1.        , 0.33561668, 0.        ,\n",
              "        0.        ],\n",
              "       [0.43561799, 0.3173015 , 0.        , 0.2782839 , 0.        ,\n",
              "        1.        ],\n",
              "       [0.28413435, 0.87258866, 1.        , 0.45557444, 0.        ,\n",
              "        0.        ],\n",
              "       [0.44680961, 1.        , 0.        , 0.2807759 , 1.        ,\n",
              "        0.        ],\n",
              "       [0.62511553, 0.59103645, 1.        , 0.55488118, 0.        ,\n",
              "        0.        ],\n",
              "       [0.68649342, 0.88568959, 1.        , 0.7880179 , 0.        ,\n",
              "        0.        ],\n",
              "       [0.54370828, 0.98922572, 1.        , 0.72539353, 0.        ,\n",
              "        0.        ],\n",
              "       [0.0040356 , 0.6847981 , 0.        , 0.0060492 , 0.        ,\n",
              "        1.        ],\n",
              "       [0.        , 0.00432296, 0.        , 0.00327821, 0.        ,\n",
              "        1.        ],\n",
              "       [0.22709197, 0.95618996, 0.        , 0.39676926, 0.        ,\n",
              "        1.        ]])"
            ]
          },
          "metadata": {},
          "execution_count": 21
        }
      ]
    },
    {
      "cell_type": "code",
      "metadata": {
        "id": "5KalyOkljCxN",
        "colab": {
          "base_uri": "https://localhost:8080/"
        },
        "outputId": "49d09b81-125f-43ae-bec3-3416a97af312"
      },
      "source": [
        "# Fitting Multiple Linear Regression to the Training set\n",
        "regressor = LinearRegression()\n",
        "regressor.fit(X_train, y_train)"
      ],
      "execution_count": null,
      "outputs": [
        {
          "output_type": "execute_result",
          "data": {
            "text/plain": [
              "LinearRegression()"
            ]
          },
          "metadata": {},
          "execution_count": 22
        }
      ]
    },
    {
      "cell_type": "code",
      "metadata": {
        "id": "hlsE-TkojCxO"
      },
      "source": [
        "# Predicting the Test set results\n",
        "y_pred = regressor.predict(X_test)"
      ],
      "execution_count": null,
      "outputs": []
    },
    {
      "cell_type": "code",
      "metadata": {
        "id": "lJUpat5kjCxO",
        "colab": {
          "base_uri": "https://localhost:8080/"
        },
        "outputId": "3b58076a-ea79-498d-9afe-166accfe704a"
      },
      "source": [
        "math.sqrt(mean_squared_error(y_test, y_pred))"
      ],
      "execution_count": null,
      "outputs": [
        {
          "output_type": "execute_result",
          "data": {
            "text/plain": [
              "9137.990152794935"
            ]
          },
          "metadata": {},
          "execution_count": 24
        }
      ]
    },
    {
      "cell_type": "code",
      "metadata": {
        "id": "tLCyVe2WjCxO",
        "colab": {
          "base_uri": "https://localhost:8080/"
        },
        "outputId": "1b880832-9c95-416c-d112-c5033a5e8630"
      },
      "source": [
        "r2_score(y_test, y_pred)"
      ],
      "execution_count": null,
      "outputs": [
        {
          "output_type": "execute_result",
          "data": {
            "text/plain": [
              "0.9347068473282426"
            ]
          },
          "metadata": {},
          "execution_count": 25
        }
      ]
    },
    {
      "cell_type": "markdown",
      "metadata": {
        "id": "y_6uuF_ldgnJ"
      },
      "source": [
        "# Validating Assumptions"
      ]
    },
    {
      "cell_type": "code",
      "metadata": {
        "id": "hyVEn4C5d630"
      },
      "source": [
        "y_train_pred = regressor.predict(X_train)\n",
        "y_test_pred = regressor.predict(X_test)\n"
      ],
      "execution_count": null,
      "outputs": []
    },
    {
      "cell_type": "code",
      "metadata": {
        "id": "Pk6KKEbFpMek"
      },
      "source": [
        "#Residual = Actual value - Predicted value\n",
        "\n",
        "residuals_train = y_train - y_train_pred\n",
        "residuals_test = y_test - y_test_pred"
      ],
      "execution_count": null,
      "outputs": []
    },
    {
      "cell_type": "markdown",
      "metadata": {
        "id": "c_oRnIaEfMyy"
      },
      "source": [
        "## Lets check for heteroscedasticity:"
      ]
    },
    {
      "cell_type": "code",
      "metadata": {
        "colab": {
          "base_uri": "https://localhost:8080/",
          "height": 295
        },
        "id": "i6yyreveeKM1",
        "outputId": "fb6e3ef9-889e-4d23-d076-6a683ce8b004"
      },
      "source": [
        "#  Plotting scatter plot between residual and fitted values\n",
        "plt.scatter(y_train_pred, residuals_train,c='red')\n",
        "plt.title('Scatter plot between residual and actual profit')\n",
        "plt.xlabel('Predicted Profit')\n",
        "plt.ylabel('Residual')\n",
        "plt.show()"
      ],
      "execution_count": null,
      "outputs": [
        {
          "output_type": "display_data",
          "data": {
            "text/plain": [
              "<Figure size 432x288 with 1 Axes>"
            ],
            "image/png": "[encoded data removed]"
          },
          "metadata": {
            "needs_background": "light"
          }
        }
      ]
    },
    {
      "cell_type": "markdown",
      "metadata": {
        "id": "JtE7pYfee598"
      },
      "source": [
        "Seems like there is no significant pattern visible. So the assumption of homoscedasticity is valid."
      ]
    },
    {
      "cell_type": "markdown",
      "metadata": {
        "id": "ji4gYerDfYbO"
      },
      "source": [
        "## Let's check if the mean of residuals is almost zero:"
      ]
    },
    {
      "cell_type": "code",
      "metadata": {
        "colab": {
          "base_uri": "https://localhost:8080/"
        },
        "id": "Y5qNkKTWe0Hk",
        "outputId": "778669a4-cfa2-489b-f3d3-adc7b6e57797"
      },
      "source": [
        "round((np.mean(residuals_train)))"
      ],
      "execution_count": null,
      "outputs": [
        {
          "output_type": "execute_result",
          "data": {
            "text/plain": [
              "0"
            ]
          },
          "metadata": {},
          "execution_count": 30
        }
      ]
    },
    {
      "cell_type": "markdown",
      "metadata": {
        "id": "bU4MSIU6fpKe"
      },
      "source": [
        "Yes, the mean of residuals is almost zero!"
      ]
    },
    {
      "cell_type": "markdown",
      "metadata": {
        "id": "A4Dtz1cJf0so"
      },
      "source": [
        "## Let's check for multicollinearity:"
      ]
    },
    {
      "cell_type": "code",
      "metadata": {
        "colab": {
          "base_uri": "https://localhost:8080/",
          "height": 237
        },
        "id": "BZIJSTwvgC-u",
        "outputId": "288b3909-2b3b-4db8-8fd5-552462f94fed"
      },
      "source": [
        "dataset[independent_variables].corr()"
      ],
      "execution_count": null,
      "outputs": [
        {
          "output_type": "execute_result",
          "data": {
            "text/plain": [
              "                  Marketing Spend  Administration  Florida_State  R&D Spend  \\\n",
              "Marketing Spend          1.000000       -0.032154       0.205685   0.724248   \n",
              "Administration          -0.032154        1.000000       0.010493   0.241955   \n",
              "Florida_State            0.205685        0.010493       1.000000   0.105711   \n",
              "R&D Spend                0.724248        0.241955       0.105711   1.000000   \n",
              "California_State        -0.168875       -0.015478      -0.492366  -0.143165   \n",
              "NewYork_State           -0.033670        0.005145      -0.492366   0.039068   \n",
              "\n",
              "                  California_State  NewYork_State  \n",
              "Marketing Spend          -0.168875      -0.033670  \n",
              "Administration           -0.015478       0.005145  \n",
              "Florida_State            -0.492366      -0.492366  \n",
              "R&D Spend                -0.143165       0.039068  \n",
              "California_State          1.000000      -0.515152  \n",
              "NewYork_State            -0.515152       1.000000  "
            ],
            "text/html": [
              "\n",
              "  <div id=\"df-d654849b-10b1-4e2a-b9ed-e30d7df5ae1a\">\n",
              "    <div class=\"colab-df-container\">\n",
              "      <div>\n",
              "<style scoped>\n",
              "    .dataframe tbody tr th:only-of-type {\n",
              "        vertical-align: middle;\n",
              "    }\n",
              "\n",
              "    .dataframe tbody tr th {\n",
              "        vertical-align: top;\n",
              "    }\n",
              "\n",
              "    .dataframe thead th {\n",
              "        text-align: right;\n",
              "    }\n",
              "</style>\n",
              "<table border=\"1\" class=\"dataframe\">\n",
              "  <thead>\n",
              "    <tr style=\"text-align: right;\">\n",
              "      <th></th>\n",
              "      <th>Marketing Spend</th>\n",
              "      <th>Administration</th>\n",
              "      <th>Florida_State</th>\n",
              "      <th>R&amp;D Spend</th>\n",
              "      <th>California_State</th>\n",
              "      <th>NewYork_State</th>\n",
              "    </tr>\n",
              "  </thead>\n",
              "  <tbody>\n",
              "    <tr>\n",
              "      <th>Marketing Spend</th>\n",
              "      <td>1.000000</td>\n",
              "      <td>-0.032154</td>\n",
              "      <td>0.205685</td>\n",
              "      <td>0.724248</td>\n",
              "      <td>-0.168875</td>\n",
              "      <td>-0.033670</td>\n",
              "    </tr>\n",
              "    <tr>\n",
              "      <th>Administration</th>\n",
              "      <td>-0.032154</td>\n",
              "      <td>1.000000</td>\n",
              "      <td>0.010493</td>\n",
              "      <td>0.241955</td>\n",
              "      <td>-0.015478</td>\n",
              "      <td>0.005145</td>\n",
              "    </tr>\n",
              "    <tr>\n",
              "      <th>Florida_State</th>\n",
              "      <td>0.205685</td>\n",
              "      <td>0.010493</td>\n",
              "      <td>1.000000</td>\n",
              "      <td>0.105711</td>\n",
              "      <td>-0.492366</td>\n",
              "      <td>-0.492366</td>\n",
              "    </tr>\n",
              "    <tr>\n",
              "      <th>R&amp;D Spend</th>\n",
              "      <td>0.724248</td>\n",
              "      <td>0.241955</td>\n",
              "      <td>0.105711</td>\n",
              "      <td>1.000000</td>\n",
              "      <td>-0.143165</td>\n",
              "      <td>0.039068</td>\n",
              "    </tr>\n",
              "    <tr>\n",
              "      <th>California_State</th>\n",
              "      <td>-0.168875</td>\n",
              "      <td>-0.015478</td>\n",
              "      <td>-0.492366</td>\n",
              "      <td>-0.143165</td>\n",
              "      <td>1.000000</td>\n",
              "      <td>-0.515152</td>\n",
              "    </tr>\n",
              "    <tr>\n",
              "      <th>NewYork_State</th>\n",
              "      <td>-0.033670</td>\n",
              "      <td>0.005145</td>\n",
              "      <td>-0.492366</td>\n",
              "      <td>0.039068</td>\n",
              "      <td>-0.515152</td>\n",
              "      <td>1.000000</td>\n",
              "    </tr>\n",
              "  </tbody>\n",
              "</table>\n",
              "</div>\n",
              "      <button class=\"colab-df-convert\" onclick=\"convertToInteractive('df-d654849b-10b1-4e2a-b9ed-e30d7df5ae1a')\"\n",
              "              title=\"Convert this dataframe to an interactive table.\"\n",
              "              style=\"display:none;\">\n",
              "        \n",
              "  <svg xmlns=\"http://www.w3.org/2000/svg\" height=\"24px\"viewBox=\"0 0 24 24\"\n",
              "       width=\"24px\">\n",
              "    <path d=\"M0 0h24v24H0V0z\" fill=\"none\"/>\n",
              "    <path d=\"M18.56 5.44l.94 2.06.94-2.06 2.06-.94-2.06-.94-.94-2.06-.94 2.06-2.06.94zm-11 1L8.5 8.5l.94-2.06 2.06-.94-2.06-.94L8.5 2.5l-.94 2.06-2.06.94zm10 10l.94 2.06.94-2.06 2.06-.94-2.06-.94-.94-2.06-.94 2.06-2.06.94z\"/><path d=\"M17.41 7.96l-1.37-1.37c-.4-.4-.92-.59-1.43-.59-.52 0-1.04.2-1.43.59L10.3 9.45l-7.72 7.72c-.78.78-.78 2.05 0 2.83L4 21.41c.39.39.9.59 1.41.59.51 0 1.02-.2 1.41-.59l7.78-7.78 2.81-2.81c.8-.78.8-2.07 0-2.86zM5.41 20L4 18.59l7.72-7.72 1.47 1.35L5.41 20z\"/>\n",
              "  </svg>\n",
              "      </button>\n",
              "      \n",
              "  <style>\n",
              "    .colab-df-container {\n",
              "      display:flex;\n",
              "      flex-wrap:wrap;\n",
              "      gap: 12px;\n",
              "    }\n",
              "\n",
              "    .colab-df-convert {\n",
              "      background-color: #E8F0FE;\n",
              "      border: none;\n",
              "      border-radius: 50%;\n",
              "      cursor: pointer;\n",
              "      display: none;\n",
              "      fill: #1967D2;\n",
              "      height: 32px;\n",
              "      padding: 0 0 0 0;\n",
              "      width: 32px;\n",
              "    }\n",
              "\n",
              "    .colab-df-convert:hover {\n",
              "      background-color: #E2EBFA;\n",
              "      box-shadow: 0px 1px 2px rgba(60, 64, 67, 0.3), 0px 1px 3px 1px rgba(60, 64, 67, 0.15);\n",
              "      fill: #174EA6;\n",
              "    }\n",
              "\n",
              "    [theme=dark] .colab-df-convert {\n",
              "      background-color: #3B4455;\n",
              "      fill: #D2E3FC;\n",
              "    }\n",
              "\n",
              "    [theme=dark] .colab-df-convert:hover {\n",
              "      background-color: #434B5C;\n",
              "      box-shadow: 0px 1px 3px 1px rgba(0, 0, 0, 0.15);\n",
              "      filter: drop-shadow(0px 1px 2px rgba(0, 0, 0, 0.3));\n",
              "      fill: #FFFFFF;\n",
              "    }\n",
              "  </style>\n",
              "\n",
              "      <script>\n",
              "        const buttonEl =\n",
              "          document.querySelector('#df-d654849b-10b1-4e2a-b9ed-e30d7df5ae1a button.colab-df-convert');\n",
              "        buttonEl.style.display =\n",
              "          google.colab.kernel.accessAllowed ? 'block' : 'none';\n",
              "\n",
              "        async function convertToInteractive(key) {\n",
              "          const element = document.querySelector('#df-d654849b-10b1-4e2a-b9ed-e30d7df5ae1a');\n",
              "          const dataTable =\n",
              "            await google.colab.kernel.invokeFunction('convertToInteractive',\n",
              "                                                     [key], {});\n",
              "          if (!dataTable) return;\n",
              "\n",
              "          const docLinkHtml = 'Like what you see? Visit the ' +\n",
              "            '<a target=\"_blank\" href=https://colab.research.google.com/notebooks/data_table.ipynb>data table notebook</a>'\n",
              "            + ' to learn more about interactive tables.';\n",
              "          element.innerHTML = '';\n",
              "          dataTable['output_type'] = 'display_data';\n",
              "          await google.colab.output.renderOutput(dataTable, element);\n",
              "          const docLink = document.createElement('div');\n",
              "          docLink.innerHTML = docLinkHtml;\n",
              "          element.appendChild(docLink);\n",
              "        }\n",
              "      </script>\n",
              "    </div>\n",
              "  </div>\n",
              "  "
            ]
          },
          "metadata": {},
          "execution_count": 31
        }
      ]
    },
    {
      "cell_type": "code",
      "metadata": {
        "colab": {
          "base_uri": "https://localhost:8080/",
          "height": 614
        },
        "id": "l3-crWdrfkCx",
        "outputId": "d30b053b-b9c3-40c2-e252-bca84061cf8e"
      },
      "source": [
        "plt.figure(figsize=(15, 10))\n",
        "sns.heatmap(dataset[independent_variables].corr(),  annot=True, cmap=\"YlGnBu\")"
      ],
      "execution_count": null,
      "outputs": [
        {
          "output_type": "execute_result",
          "data": {
            "text/plain": [
              "<matplotlib.axes._subplots.AxesSubplot at 0x7f1cd788e610>"
            ]
          },
          "metadata": {},
          "execution_count": 32
        },
        {
          "output_type": "display_data",
          "data": {
            "text/plain": [
              "<Figure size 1080x720 with 2 Axes>"
            ],
            "image/png": "[encoded data removed]"
          },
          "metadata": {
            "needs_background": "light"
          }
        }
      ]
    },
    {
      "cell_type": "markdown",
      "metadata": {
        "id": "W_we86WYgQY_"
      },
      "source": [
        "i. Correlation between marketing spend and R&D spend is very high, hence it needs attention\n",
        "\n",
        "ii. Ignoring the correlations between binary variables (state dummy variables) as of now"
      ]
    },
    {
      "cell_type": "markdown",
      "metadata": {
        "id": "akojvVvMg9-o"
      },
      "source": [
        "# Evaluation Metrics"
      ]
    },
    {
      "cell_type": "code",
      "metadata": {
        "id": "f1k88RsKhizk"
      },
      "source": [
        "def print_metrics(actual, predicted):\n",
        "  print('MSE is {}'.format(mean_squared_error(actual, predicted)))\n",
        "  print('RMSE is {}'.format(math.sqrt(mean_squared_error(actual, predicted))))\n",
        "  print('R2 is {}'.format(r2_score(actual, predicted)))\n",
        "  print('MAE is {}'.format(mean_absolute_error(actual, predicted)))\n",
        "  print('MAPE is {}'.format(np.mean(np.abs((actual - predicted) / actual)) * 100))\n",
        "  "
      ],
      "execution_count": null,
      "outputs": []
    },
    {
      "cell_type": "code",
      "metadata": {
        "colab": {
          "base_uri": "https://localhost:8080/"
        },
        "id": "H9ngMUSVf4JY",
        "outputId": "ee5fdf4f-aee9-44c7-d103-c7ba10914798"
      },
      "source": [
        "# Training dataset metrics\n",
        "print_metrics(y_train, y_train_pred)"
      ],
      "execution_count": null,
      "outputs": [
        {
          "output_type": "stream",
          "name": "stdout",
          "text": [
            "MSE is 81571001.8007737\n",
            "RMSE is 9031.66661257897\n",
            "R2 is 0.9501847627493607\n",
            "MAE is 6341.535758081851\n",
            "MAPE is 11.643543574245022\n"
          ]
        }
      ]
    },
    {
      "cell_type": "code",
      "metadata": {
        "colab": {
          "base_uri": "https://localhost:8080/"
        },
        "id": "EvxV9jtYhd5c",
        "outputId": "37a130b9-d4cb-4a33-d3d2-292508482365"
      },
      "source": [
        "# Test dataset metrics\n",
        "print_metrics(y_test, y_test_pred)"
      ],
      "execution_count": null,
      "outputs": [
        {
          "output_type": "stream",
          "name": "stdout",
          "text": [
            "MSE is 83502864.03257719\n",
            "RMSE is 9137.990152794935\n",
            "R2 is 0.9347068473282426\n",
            "MAE is 7514.293659640598\n",
            "MAPE is 6.449754085355488\n"
          ]
        }
      ]
    },
    {
      "cell_type": "markdown",
      "metadata": {
        "id": "Y_vbvY5JjasY"
      },
      "source": [
        "Training set errors and test set errors are almost same, so no underfitting or overfitting detected."
      ]
    },
    {
      "cell_type": "code",
      "metadata": {
        "id": "OL7EacirjNXr"
      },
      "source": [
        "# Adjusted R2\n",
        "\n",
        "def adjusted_r2(n, k, actual, predicted):\n",
        "  return 1 - (((n-1)/(n-k-1))*(1-r2_score(actual, predicted)))"
      ],
      "execution_count": null,
      "outputs": []
    },
    {
      "cell_type": "code",
      "metadata": {
        "colab": {
          "base_uri": "https://localhost:8080/"
        },
        "id": "wt11DUXNjqiq",
        "outputId": "41ce5060-bcde-4ad6-b433-7553d6bcf347"
      },
      "source": [
        "adjusted_r2(len(y_train),len(independent_variables), y_train, y_train_pred)"
      ],
      "execution_count": null,
      "outputs": [
        {
          "output_type": "execute_result",
          "data": {
            "text/plain": [
              "0.9411274468856081"
            ]
          },
          "metadata": {},
          "execution_count": 40
        }
      ]
    },
    {
      "cell_type": "code",
      "metadata": {
        "id": "wWHYYsvJkAzy"
      },
      "source": [],
      "execution_count": null,
      "outputs": []
    }
  ]
}