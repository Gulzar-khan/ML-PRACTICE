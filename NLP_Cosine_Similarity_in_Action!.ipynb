{
  "nbformat": 4,
  "nbformat_minor": 0,
  "metadata": {
    "colab": {
      "provenance": [],
      "include_colab_link": true
    },
    "kernelspec": {
      "name": "python3",
      "display_name": "Python 3"
    },
    "language_info": {
      "name": "python"
    }
  },
  "cells": [
    {
      "cell_type": "markdown",
      "metadata": {
        "id": "view-in-github",
        "colab_type": "text"
      },
      "source": [
        "<a href=\"https://colab.research.google.com/github/Gulzar-khan/ML-PRACTICE/blob/main/NLP_Cosine_Similarity_in_Action!.ipynb\" target=\"_parent\"><img src=\"https://colab.research.google.com/assets/colab-badge.svg\" alt=\"Open In Colab\"/></a>"
      ]
    },
    {
      "cell_type": "markdown",
      "source": [
        "https://colab.research.google.com/drive/1VgIzmFrSmVvIeVeaiCWymoaJ-7qNJCJl?usp=sharing"
      ],
      "metadata": {
        "id": "mIhVKjFGwFT2"
      }
    },
    {
      "cell_type": "code",
      "source": [
        "\n",
        "!pip install wikipedia"
      ],
      "metadata": {
        "colab": {
          "base_uri": "https://localhost:8080/"
        },
        "id": "16qDD47W1_zk",
        "outputId": "57a2b327-8dc0-4e43-8f7c-1e0b9a4e387b"
      },
      "execution_count": null,
      "outputs": [
        {
          "output_type": "stream",
          "name": "stdout",
          "text": [
            "Looking in indexes: https://pypi.org/simple, https://us-python.pkg.dev/colab-wheels/public/simple/\n",
            "Collecting wikipedia\n",
            "  Downloading wikipedia-1.4.0.tar.gz (27 kB)\n",
            "Requirement already satisfied: beautifulsoup4 in /usr/local/lib/python3.7/dist-packages (from wikipedia) (4.6.3)\n",
            "Requirement already satisfied: requests<3.0.0,>=2.0.0 in /usr/local/lib/python3.7/dist-packages (from wikipedia) (2.23.0)\n",
            "Requirement already satisfied: idna<3,>=2.5 in /usr/local/lib/python3.7/dist-packages (from requests<3.0.0,>=2.0.0->wikipedia) (2.10)\n",
            "Requirement already satisfied: certifi>=2017.4.17 in /usr/local/lib/python3.7/dist-packages (from requests<3.0.0,>=2.0.0->wikipedia) (2022.6.15)\n",
            "Requirement already satisfied: chardet<4,>=3.0.2 in /usr/local/lib/python3.7/dist-packages (from requests<3.0.0,>=2.0.0->wikipedia) (3.0.4)\n",
            "Requirement already satisfied: urllib3!=1.25.0,!=1.25.1,<1.26,>=1.21.1 in /usr/local/lib/python3.7/dist-packages (from requests<3.0.0,>=2.0.0->wikipedia) (1.24.3)\n",
            "Building wheels for collected packages: wikipedia\n",
            "  Building wheel for wikipedia (setup.py) ... \u001b[?25l\u001b[?25hdone\n",
            "  Created wheel for wikipedia: filename=wikipedia-1.4.0-py3-none-any.whl size=11695 sha256=0b655eeba315726ee544169b265397c1efe55d825174f8c03e22c51755799919\n",
            "  Stored in directory: /root/.cache/pip/wheels/15/93/6d/5b2c68b8a64c7a7a04947b4ed6d89fb557dcc6bc27d1d7f3ba\n",
            "Successfully built wikipedia\n",
            "Installing collected packages: wikipedia\n",
            "Successfully installed wikipedia-1.4.0\n"
          ]
        }
      ]
    },
    {
      "cell_type": "code",
      "execution_count": null,
      "metadata": {
        "colab": {
          "base_uri": "https://localhost:8080/"
        },
        "id": "c9pYqVEu1sOA",
        "outputId": "7bf212ee-ba15-457b-8971-8960281a3154"
      },
      "outputs": [
        {
          "output_type": "stream",
          "name": "stdout",
          "text": [
            "NLP \t 4654 \n",
            "AI \t 10980 \n",
            "soccer \t 6783 \n",
            "cricket  8940\n"
          ]
        }
      ],
      "source": [
        "import wikipedia\n",
        "import numpy as np\n",
        "\n",
        "q1 = wikipedia.page(\"Natural Language Processing\")\n",
        "q2 = wikipedia.page('Artifical Intelligence')\n",
        "q3 = wikipedia.page('Soccer')\n",
        "q4 = wikipedia.page('Cricket')\n",
        "\n",
        "from sklearn.feature_extraction.text import CountVectorizer\n",
        "\n",
        "def euclidean_distance(x, y):\n",
        "    return np.sqrt(np.sum((x - y) ** 2))\n",
        "\n",
        "def cosine_similarity(x, y):\n",
        "    return np.dot(x, y) / (np.sqrt(np.dot(x, x)) * np.sqrt(np.dot(y, y)))\n",
        "\n",
        "cv = CountVectorizer()\n",
        "X = np.array(cv.fit_transform([q1.content, q2.content, q3.content, q4.content]).todense())\n",
        "\n",
        "print(\"NLP \\t\", len(q1.content.split()), \"\\n\"\n",
        "      \"AI \\t\", len(q2.content.split()), \"\\n\"\n",
        "      \"soccer \\t\", len(q3.content.split()), \"\\n\"\n",
        "      \"cricket \", len(q4.content.split()))\n"
      ]
    },
    {
      "cell_type": "code",
      "source": [
        "X"
      ],
      "metadata": {
        "colab": {
          "base_uri": "https://localhost:8080/"
        },
        "id": "xdRyQEkn51EO",
        "outputId": "71276cc4-2929-4558-a9d5-9b0271443ff4"
      },
      "execution_count": null,
      "outputs": [
        {
          "output_type": "execute_result",
          "data": {
            "text/plain": [
              "array([[0, 1, 1, ..., 0, 0, 0],\n",
              "       [1, 0, 0, ..., 0, 2, 0],\n",
              "       [2, 0, 0, ..., 1, 0, 1],\n",
              "       [0, 0, 0, ..., 0, 0, 0]])"
            ]
          },
          "metadata": {},
          "execution_count": 3
        }
      ]
    },
    {
      "cell_type": "code",
      "source": [
        "print(\"NLP - AI \\t\", euclidean_distance(X[0], X[1]), \"\\n\"\n",
        "      \"NLP - soccer \\t\", euclidean_distance(X[0], X[2]), \"\\n\"\n",
        "      \"NLP - cricket \\t\", euclidean_distance(X[0], X[3]))"
      ],
      "metadata": {
        "colab": {
          "base_uri": "https://localhost:8080/"
        },
        "id": "-f--RWcQ11N2",
        "outputId": "18dc2723-3a1c-4edb-9ad9-31fe9c0f00c7"
      },
      "execution_count": null,
      "outputs": [
        {
          "output_type": "stream",
          "name": "stdout",
          "text": [
            "NLP - AI \t 615.3958075905294 \n",
            "NLP - soccer \t 471.74251451400903 \n",
            "NLP - cricket \t 714.8433394807564\n"
          ]
        }
      ]
    },
    {
      "cell_type": "code",
      "source": [
        "print(\"NLP - AI \\t\", cosine_similarity(X[0], X[1]), \"\\n\"\n",
        "      \"NLP - soccer \\t\", cosine_similarity(X[0], X[2]), \"\\n\"\n",
        "      \"NLP - cricket \\t\", cosine_similarity(X[0], X[3]))"
      ],
      "metadata": {
        "colab": {
          "base_uri": "https://localhost:8080/"
        },
        "id": "Y8K2V1Yt3QqX",
        "outputId": "a3df8d5e-245d-4ef9-a48d-9bc9099f8b07"
      },
      "execution_count": null,
      "outputs": [
        {
          "output_type": "stream",
          "name": "stdout",
          "text": [
            "NLP - AI \t 0.8885992364374213 \n",
            "NLP - soccer \t 0.8364363947994737 \n",
            "NLP - cricket \t 0.8407491125829665\n"
          ]
        }
      ]
    },
    {
      "cell_type": "code",
      "source": [
        "so_tweet = \"#LegendsDownUnder The Reds are out for the warm up at the @nibStadium. Not long now until kick-off in Perth.\"\n",
        "x2 = np.array(cv.transform([so_tweet]).todense())[0]"
      ],
      "metadata": {
        "id": "KK8i-8SP3xl4"
      },
      "execution_count": null,
      "outputs": []
    },
    {
      "cell_type": "code",
      "source": [
        "print(\"tweet - ML \\t\", euclidean_distance(x2, X[0]), \"\\n\"\n",
        "      \"tweet - AI \\t\", euclidean_distance(x2, X[1]), \"\\n\"\n",
        "      \"tweet - soccer \\t\", euclidean_distance(x2, X[2]), \"\\n\"\n",
        "      \"tweet - tennis \\t\", euclidean_distance(x2, X[3]))"
      ],
      "metadata": {
        "colab": {
          "base_uri": "https://localhost:8080/"
        },
        "id": "wYXcrVF05Yeq",
        "outputId": "36c49c0e-b246-4195-d34e-8ba6927a6760"
      },
      "execution_count": null,
      "outputs": [
        {
          "output_type": "stream",
          "name": "stdout",
          "text": [
            "tweet - ML \t 420.3165473782825 \n",
            "tweet - AI \t 957.2638089889327 \n",
            "tweet - soccer \t 761.4689750738371 \n",
            "tweet - tennis \t 1029.5761263743443\n"
          ]
        }
      ]
    },
    {
      "cell_type": "code",
      "source": [
        "print(\"tweet - ML \\t\", cosine_similarity(x2, X[0]), \"\\n\"\n",
        "      \"tweet - AI \\t\", cosine_similarity(x2, X[1]), \"\\n\"\n",
        "      \"tweet - soccer \\t\", cosine_similarity(x2, X[2]), \"\\n\"\n",
        "      \"tweet - tennis \\t\", cosine_similarity(x2, X[3]))"
      ],
      "metadata": {
        "colab": {
          "base_uri": "https://localhost:8080/"
        },
        "id": "MJVUd7Lc5oR5",
        "outputId": "a5efe246-fe48-43d5-9451-d107e6298a94"
      },
      "execution_count": null,
      "outputs": [
        {
          "output_type": "stream",
          "name": "stdout",
          "text": [
            "tweet - ML \t 0.4587537897124389 \n",
            "tweet - AI \t 0.47440644659548853 \n",
            "tweet - soccer \t 0.6200481510104823 \n",
            "tweet - tennis \t 0.6112474305866877\n"
          ]
        }
      ]
    },
    {
      "cell_type": "code",
      "source": [],
      "metadata": {
        "id": "q6lxbeaM5ud0"
      },
      "execution_count": null,
      "outputs": []
    }
  ]
}